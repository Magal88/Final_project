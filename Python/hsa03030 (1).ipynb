{
 "cells": [
  {
   "cell_type": "markdown",
   "id": "076dd807-1649-472c-86d7-5e4c800b3de7",
   "metadata": {},
   "source": [
    "In this section we are going to work with Biophyton, specifically accessing KEGG to study the pathway hsa03030 (\"DNA replication\" pathway in humans): https://www.genome.jp/dbget-bin/www_bget?pathway+hsa03030\n",
    "\n",
    "Note: It is important to have biphyton installed first."
   ]
  },
  {
   "cell_type": "code",
   "execution_count": 2,
   "id": "b0f22f79-8043-47f7-94bd-9327bed01763",
   "metadata": {},
   "outputs": [],
   "source": [
    "from Bio.KEGG import REST"
   ]
  },
  {
   "cell_type": "code",
   "execution_count": 4,
   "id": "d8c9515b-b5f1-4d90-af68-f5f90c8a5bc9",
   "metadata": {},
   "outputs": [],
   "source": [
    "pathway_hsa03030 = REST.kegg_get(\"hsa03030\").read()"
   ]
  },
  {
   "cell_type": "code",
   "execution_count": 5,
   "id": "d288b768-2b26-4e41-81f3-9152a80ad795",
   "metadata": {},
   "outputs": [
    {
     "data": {
      "text/plain": [
       "str"
      ]
     },
     "execution_count": 5,
     "metadata": {},
     "output_type": "execute_result"
    }
   ],
   "source": [
    "type(pathway_hsa03030)"
   ]
  },
  {
   "cell_type": "code",
   "execution_count": 6,
   "id": "71d79ac9-675c-4d23-b75b-858b5170c0d9",
   "metadata": {},
   "outputs": [
    {
     "data": {
      "text/plain": [
       "'ENTRY       hsa03030                    Pathway\\nNAME        DNA replication - Homo sapiens (human)\\nDESCRIPTION A complex network of interacting proteins and enzymes is required for DNA replication. Ge'"
      ]
     },
     "execution_count": 6,
     "metadata": {},
     "output_type": "execute_result"
    }
   ],
   "source": [
    "pathway_hsa03030[0:200]"
   ]
  },
  {
   "cell_type": "code",
   "execution_count": 7,
   "id": "2bcbd891-886b-4eb1-9f7a-45a297dc1c29",
   "metadata": {},
   "outputs": [
    {
     "data": {
      "text/plain": [
       "4970"
      ]
     },
     "execution_count": 7,
     "metadata": {},
     "output_type": "execute_result"
    }
   ],
   "source": [
    "len(pathway_hsa03030)"
   ]
  },
  {
   "cell_type": "code",
   "execution_count": 8,
   "id": "51c39967-e239-4cad-b649-d1255ef1d212",
   "metadata": {},
   "outputs": [
    {
     "name": "stdout",
     "output_type": "stream",
     "text": [
      "ENTRY       hsa03030                    Pathway\n",
      "NAME        DNA replication - Homo sapiens (human)\n",
      "DESCRIPTION A complex network of interacting proteins and enzymes is required for DNA replication. Generally, DNA replication follows a multistep enzymatic pathway. At the DNA replication fork, a DNA helicase (DnaB or MCM complex) precedes the DNA synthetic machinery and unwinds the duplex parental DNA in cooperation with the SSB or RPA. On the leading strand, replication occurs continuously in a 5 to 3 direction, whereas on the lagging strand, DNA replication occurs discontinuously by synthesis and joining of short Okazaki fragments. In prokaryotes, the leading strand replication apparatus consists of a DNA polymerase (pol III core), a sliding clamp (beta), and a clamp loader (gamma delta complex). The DNA primase (DnaG) is needed to form RNA primers. Normally, during replication of the lagging-strand DNA template, an RNA primer is removed either by an RNase H or by the 5 to 3 exonuclease activity of DNA pol I, and the DNA ligase joins the Okazaki fragments. In eukaryotes, three DNA polymerases (alpha, delta, and epsilon) have been identified. DNA primase forms a permanent complex with DNA polymerase alpha. PCNA and RFC function as a clamp and a clamp loader. FEN 1 and RNase H1 remove the RNA from the Okazaki fragments and DNA ligase I joins the DNA.\n",
      "CLASS       Genetic Information Processing; Replication and repair\n",
      "PATHWAY_MAP hsa03030  DNA replication\n",
      "NETWORK     nt06509  DNA replication\n",
      "  ELEMENT   N01471  Origin unwinding and elongation\n",
      "            N01472  Okazaki fragment maturation\n",
      "DRUG        D03546  Clofarabine (JAN/USAN/INN)\n",
      "ORGANISM    Homo sapiens (human) [GN:hsa]\n",
      "GENE        10535  RNASEH2A; ribonuclease H2 subunit A [KO:K10743] [EC:3.1.26.4]\n",
      "            10714  POLD3; DNA polymerase delta 3, accessory subunit [KO:K03504]\n",
      "            1763  DNA2; DNA replication helicase/nuclease 2 [KO:K10742] [EC:5.6.2.3 3.1.-.-]\n",
      "            2237  FEN1; flap structure-specific endonuclease 1 [KO:K04799] [EC:3.1.-.-]\n",
      "            23649  POLA2; DNA polymerase alpha 2, accessory subunit [KO:K02321]\n",
      "            246243  RNASEH1; ribonuclease H1 [KO:K03469] [EC:3.1.26.4]\n",
      "            29935  RPA4; replication protein A4 [KO:K10741]\n",
      "            3978  LIG1; DNA ligase 1 [KO:K10747] [EC:6.5.1.1 6.5.1.6 6.5.1.7]\n",
      "            4171  MCM2; minichromosome maintenance complex component 2 [KO:K02540] [EC:5.6.2.3]\n",
      "            4172  MCM3; minichromosome maintenance complex component 3 [KO:K02541] [EC:5.6.2.3]\n",
      "            4173  MCM4; minichromosome maintenance complex component 4 [KO:K02212] [EC:5.6.2.3]\n",
      "            4174  MCM5; minichromosome maintenance complex component 5 [KO:K02209] [EC:5.6.2.3]\n",
      "            4175  MCM6; minichromosome maintenance complex component 6 [KO:K02542] [EC:5.6.2.3]\n",
      "            4176  MCM7; minichromosome maintenance complex component 7 [KO:K02210] [EC:5.6.2.3]\n",
      "            5111  PCNA; proliferating cell nuclear antigen [KO:K04802]\n",
      "            54107  POLE3; DNA polymerase epsilon 3, accessory subunit [KO:K02326] [EC:2.7.7.7]\n",
      "            5422  POLA1; DNA polymerase alpha 1, catalytic subunit [KO:K02320] [EC:2.7.7.7]\n",
      "            5424  POLD1; DNA polymerase delta 1, catalytic subunit [KO:K02327] [EC:2.7.7.7]\n",
      "            5425  POLD2; DNA polymerase delta 2, accessory subunit [KO:K02328]\n",
      "            5426  POLE; DNA polymerase epsilon, catalytic subunit [KO:K02324] [EC:2.7.7.7]\n",
      "            5427  POLE2; DNA polymerase epsilon 2, accessory subunit [KO:K02325] [EC:2.7.7.7]\n",
      "            5557  PRIM1; DNA primase subunit 1 [KO:K02684] [EC:2.7.7.102]\n",
      "            5558  PRIM2; DNA primase subunit 2 [KO:K02685]\n",
      "            56655  POLE4; DNA polymerase epsilon 4, accessory subunit [KO:K03506] [EC:2.7.7.7]\n",
      "            57804  POLD4; DNA polymerase delta 4, accessory subunit [KO:K03505]\n",
      "            5981  RFC1; replication factor C subunit 1 [KO:K10754]\n",
      "            5982  RFC2; replication factor C subunit 2 [KO:K10755]\n",
      "            5983  RFC3; replication factor C subunit 3 [KO:K10756]\n",
      "            5984  RFC4; replication factor C subunit 4 [KO:K10755]\n",
      "            5985  RFC5; replication factor C subunit 5 [KO:K10756]\n",
      "            6117  RPA1; replication protein A1 [KO:K07466]\n",
      "            6118  RPA2; replication protein A2 [KO:K10739]\n",
      "            6119  RPA3; replication protein A3 [KO:K10740]\n",
      "            6742  SSBP1; single stranded DNA binding protein 1 [KO:K03111]\n",
      "            79621  RNASEH2B; ribonuclease H2 subunit B [KO:K10744]\n",
      "            84153  RNASEH2C; ribonuclease H2 subunit C [KO:K10745]\n",
      "REFERENCE   PMID:8087839\n",
      "  AUTHORS   Stillman B.\n",
      "  TITLE     Smart machines at the DNA replication fork.\n",
      "  JOURNAL   Cell 78:725-8 (1994)\n",
      "            DOI:10.1016/S0092-8674(94)90362-X\n",
      "REFERENCE   PMID:9759502\n",
      "  AUTHORS   Waga S, Stillman B.\n",
      "  TITLE     The DNA replication fork in eukaryotic cells.\n",
      "  JOURNAL   Annu Rev Biochem 67:721-51 (1998)\n",
      "            DOI:10.1146/annurev.biochem.67.1.721\n",
      "KO_PATHWAY  ko03030\n",
      "///\n",
      "\n"
     ]
    }
   ],
   "source": [
    "for line in pathway_hsa03030.split(\"\\n\"): \n",
    "    print(line)"
   ]
  },
  {
   "cell_type": "markdown",
   "id": "89bdd578-2058-43c5-ac20-e3da173d63af",
   "metadata": {},
   "source": [
    "We save the contents of the pathway in a txt file:"
   ]
  },
  {
   "cell_type": "code",
   "execution_count": 15,
   "id": "e9ea967f-ce0a-487c-845e-c74da8d6ba64",
   "metadata": {},
   "outputs": [
    {
     "name": "stdout",
     "output_type": "stream",
     "text": [
      "File saved as pathway_hsa03030.txt\n"
     ]
    }
   ],
   "source": [
    "with open(\"pathway_hsa03030.txt\", \"w\") as f:\n",
    "    f.write(pathway_hsa03030)\n",
    "\n",
    "print(\"File saved as pathway_hsa03030.txt\")"
   ]
  },
  {
   "cell_type": "markdown",
   "id": "6440908f-ab6d-4aad-a085-bb0b7445d4ef",
   "metadata": {},
   "source": [
    "Let's search for the terms MCM2', 'MCM3', 'MCM4', 'PCNA', 'POLD1 in the hsa03030 pathway and count how many times each appears. Then, we plot a bar chart using the matplotlib library."
   ]
  },
  {
   "cell_type": "code",
   "execution_count": 18,
   "id": "43e00d23-7c07-421e-91e5-d1b3b8d91f36",
   "metadata": {},
   "outputs": [],
   "source": [
    "import matplotlib.pyplot as plt\n",
    "import pandas as pd"
   ]
  },
  {
   "cell_type": "code",
   "execution_count": 19,
   "id": "592b756e-9ec9-43bd-a056-7263d143927b",
   "metadata": {},
   "outputs": [
    {
     "name": "stdout",
     "output_type": "stream",
     "text": [
      "The term 'MCM2' appears 1 time(s) in the pathway.\n",
      "The term 'MCM3' appears 1 time(s) in the pathway.\n",
      "The term 'MCM4' appears 1 time(s) in the pathway.\n",
      "The term 'PCNA' appears 2 time(s) in the pathway.\n",
      "The term 'POLD1' appears 1 time(s) in the pathway.\n"
     ]
    }
   ],
   "source": [
    "search_terms = ['MCM2', 'MCM3', 'MCM4', 'PCNA', 'POLD1']\n",
    "term_frequency = {}\n",
    "\n",
    "for term in search_terms:\n",
    "    count = pathway_hsa03030.lower().count(term.lower())\n",
    "    term_frequency[term] = count  \n",
    "    print(f\"The term '{term}' appears {count} time(s) in the pathway.\")"
   ]
  },
  {
   "cell_type": "markdown",
   "id": "60d0804a-c803-4930-b421-268727507c91",
   "metadata": {},
   "source": [
    "Convert the dictionary to a data frame called df:"
   ]
  },
  {
   "cell_type": "code",
   "execution_count": 26,
   "id": "31171ced-840a-4740-8b11-b6ea3fca0bff",
   "metadata": {},
   "outputs": [],
   "source": [
    "df = pd.DataFrame(list(term_frequency.items()), columns=['Term', 'Count'])"
   ]
  },
  {
   "cell_type": "markdown",
   "id": "b419a102-5946-45f0-a5ba-f1c7c919945e",
   "metadata": {},
   "source": [
    "Barplot"
   ]
  },
  {
   "cell_type": "code",
   "execution_count": 29,
   "id": "0a98387d-b36e-46dc-84b6-b0e558a29f28",
   "metadata": {},
   "outputs": [
    {
     "data": {
      "image/png": "[encoded data removed]",
      "text/plain": [
       "<Figure size 1000x600 with 1 Axes>"
      ]
     },
     "metadata": {},
     "output_type": "display_data"
    }
   ],
   "source": [
    "plt.figure(figsize=(10, 6))\n",
    "plt.bar(df['Term'], df['Count'], color='blue')\n",
    "plt.xlabel('Terms')\n",
    "plt.ylabel('Frequency')\n",
    "plt.title('Distribution of Terms in KEGG Pathway hsa03030')\n",
    "plt.show()"
   ]
  },
  {
   "cell_type": "code",
   "execution_count": null,
   "id": "c910badf-bc7f-45fa-9a9d-3ac0d491046c",
   "metadata": {},
   "outputs": [],
   "source": []
  }
 ],
 "metadata": {
  "kernelspec": {
   "display_name": "Python 3 (ipykernel)",
   "language": "python",
   "name": "python3"
  },
  "language_info": {
   "codemirror_mode": {
    "name": "ipython",
    "version": 3
   },
   "file_extension": ".py",
   "mimetype": "text/x-python",
   "name": "python",
   "nbconvert_exporter": "python",
   "pygments_lexer": "ipython3",
   "version": "3.12.3"
  }
 },
 "nbformat": 4,
 "nbformat_minor": 5
}
